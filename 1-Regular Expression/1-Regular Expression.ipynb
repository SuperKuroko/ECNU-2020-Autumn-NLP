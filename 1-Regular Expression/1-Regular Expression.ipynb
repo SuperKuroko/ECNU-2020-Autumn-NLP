{
 "cells": [
  {
   "cell_type": "markdown",
   "metadata": {},
   "source": [
    "1.任务描述：合法的IPv4地址由4组数字组成，每组数字之间以.分隔，且取值范围是0-255。请在下列数字中判断出合法的地址。  \n",
    "输入：66666666666  \n",
    "23333333  \n",
    "500.1.2.5  \n",
    "0.0.0.0  \n",
    "192.0.0.1  \n",
    "233.233.233.233  \n",
    "102.52.96.3  "
   ]
  },
  {
   "cell_type": "code",
   "execution_count": 39,
   "metadata": {},
   "outputs": [
    {
     "name": "stdout",
     "output_type": "stream",
     "text": [
      "66666666666 : illgeal\n",
      "23333333 : illgeal\n",
      "500.1.2.5 : illgeal\n",
      "0.0.0.0 : legal\n",
      "192.0.0.1 : legal\n",
      "233.233.233.233 : legal\n",
      "102.52.96.3 : legal\n"
     ]
    }
   ],
   "source": [
    "import re\n",
    "IPv4_Pattern = re.compile('[0-9]$|[1-9][0-9]$|1[0-9][0-9]$|2[0-4][0-9]$|25[0-5]$')  #0-255的字符串正则表达式匹配\n",
    "#枚举了一位数，两位数，1开头的三位数，和2开头的三位数，以及25开头的三位数\n",
    "\n",
    "IPv4_Address = ['66666666666',\n",
    "'23333333',\n",
    "'500.1.2.5',\n",
    "'0.0.0.0',\n",
    "'192.0.0.1',\n",
    "'233.233.233.233',\n",
    "'102.52.96.3']\n",
    "\n",
    "\n",
    "for address in IPv4_Address:\n",
    "    Is_Legal = False        #最终判定结果\n",
    "    result = re.split('[\\.]',address)  #以.来分隔字符串\n",
    "    if(len(result) == 4):   #首先要有4组数据\n",
    "        Is_Legal = True     #设置结果为True\n",
    "        for e in result:    #对于每组数\n",
    "            if not (IPv4_Pattern.match(e)):  #出现失败匹配，则修改结果为False\n",
    "                Is_Legal = False\n",
    "    print(address+\" : \"+(\"legal\" if Is_Legal else \"illgeal\"))"
   ]
  },
  {
   "cell_type": "markdown",
   "metadata": {},
   "source": [
    "2.任务描述：将句子中的中文日期替换为阿拉伯数字，并改为YYYY-MM-DD格式输出。  \n",
    "输入：新中国于一九四九年十月一日成立。  \n",
    "我的出生日期是二零零零年九月二十三日。  "
   ]
  },
  {
   "cell_type": "code",
   "execution_count": 1,
   "metadata": {},
   "outputs": [
    {
     "name": "stdout",
     "output_type": "stream",
     "text": [
      "新中国于1949-10-1成立。 我的出生日期是2000-9-23。\n"
     ]
    }
   ],
   "source": [
    "import re\n",
    "number = [\"零\",\"一\",\"二\",\"三\",\"四\",\"五\",\"六\",\"七\",\"八\",\"九\",\"十\"]  #用下标来映射中文汉字\n",
    "string = \"新中国于一九四九年十月一日成立。 我的出生日期是二零零零年九月二十三日。\"  #处理文本\n",
    "\n",
    "#1-4位的年份关键词，年，1-2位的月份关键词，月，一到三位的日关键词，日\n",
    "pattern = re.compile('[一二三四五六七八九十零]{1,4}年[一二三四五六七八九十]{1,2}月[一二三四五六七八九十]{1,3}日')\n",
    "\n",
    "result = re.findall(pattern, string)  #搜索全部匹配结果\n",
    "\n",
    "for date in result:\n",
    "    replacement = \"\"\n",
    "    for i in range(len(date)):\n",
    "        if date[i] in number:\n",
    "            replacement += str(number.index(date[i]))  #通过映射变换\n",
    "        elif i != len(date)-1:\n",
    "            replacement += \"-\"\n",
    "    num = replacement.split(\"-\")\n",
    "    replacement = num[0]+\"-\"\n",
    "    if len(num[1]) == 3:                    #对于十一，会映射成101，十二映射成102，因此做特判处理\n",
    "        replacement += num[1][0]+num[1][2]\n",
    "    else:\n",
    "        replacement += num[1]\n",
    "    replacement += \"-\"              \n",
    "    if len(num[2]) > 2:                     #同上，对11-31做特判处理\n",
    "         replacement += num[2][0]+num[2][-1]\n",
    "    else:\n",
    "        replacement += num[2]\n",
    "    \n",
    "    string = re.sub(date, replacement, string)\n",
    "print(string)"
   ]
  },
  {
   "cell_type": "markdown",
   "metadata": {},
   "source": [
    "3.任务描述：将句子中的电话号码提取出来，电话号码格式为区号（可选）后接“-”或空格，再加十位数字。  \n",
    "输入：我的电话号码是1234567890，另一个电话号码是+86-4321567890。如果以上都不可用，您可以在16点前致电+91 5645456545与我联系。"
   ]
  },
  {
   "cell_type": "code",
   "execution_count": 3,
   "metadata": {},
   "outputs": [
    {
     "name": "stdout",
     "output_type": "stream",
     "text": [
      "['1234567890', '+86-4321567890', '+91 5645456545']\n"
     ]
    }
   ],
   "source": [
    "import re\n",
    "#处理文本\n",
    "text = \"我的电话号码是1234567890，另一个电话号码是+86-4321567890。如果以上都不可用，您可以在16点前致电+91 5645456545与我联系。\"\n",
    "pattern = re.compile(r'[+]\\d*[-\\s]\\d{10}|\\d{10}')  #正则表达式，表示带区号的号码，和不带区号的号码\n",
    "result = re.findall(pattern, text)                 #全部匹配结果\n",
    "print(result)"
   ]
  }
 ],
 "metadata": {
  "kernelspec": {
   "display_name": "Python 3",
   "language": "python",
   "name": "python3"
  },
  "language_info": {
   "codemirror_mode": {
    "name": "ipython",
    "version": 3
   },
   "file_extension": ".py",
   "mimetype": "text/x-python",
   "name": "python",
   "nbconvert_exporter": "python",
   "pygments_lexer": "ipython3",
   "version": "3.7.3"
  }
 },
 "nbformat": 4,
 "nbformat_minor": 4
}
